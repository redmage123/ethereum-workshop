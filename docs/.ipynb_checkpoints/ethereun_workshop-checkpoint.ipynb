{
 "cells": [
  {
   "cell_type": "markdown",
   "metadata": {},
   "source": [
    "# Introduction to Ethereum for Developers"
   ]
  },
  {
   "cell_type": "markdown",
   "metadata": {},
   "source": [
    "## Author:  Braun E. Brelin\n",
    "(C) 2021\n"
   ]
  },
  {
   "cell_type": "markdown",
   "metadata": {},
   "source": [
    "This notebook will present the *Ethereum* Blockchain environment.  Ethereum is the first *global* application deployed.  The desisgners of Ethereum call it a \"World computer\".  We will explore this application and learn how it works internally as well as how to develop distributed applications (known as DApps) for this system. "
   ]
  },
  {
   "cell_type": "markdown",
   "metadata": {},
   "source": [
    "## What is a blockchain?"
   ]
  },
  {
   "cell_type": "markdown",
   "metadata": {},
   "source": [
    "A good definition of a blockchain is a “Cryptographically secure transactional singleton machine with shared-state.”\n",
    "What does this mean?\n",
    "\n",
    "- “Cryptographically secure” means that the creation of digital currency is secured by complex mathematical algorithms that are very hard to break. These algorithms make it nearly impossible to cheat the system (e.g. create fake transactions, erase transactions, etc.)\n",
    "- “Transactional singleton machine” means that there’s a single canonical instance of the machine responsible for all the transactions being created in the system. In other words, there’s a single global truth that everyone believes in.\n",
    "- “With shared-state” means that the state stored on this machine is shared and open to everyone.\n",
    "\n",
    "Ethereum is an exxample of a system that implements a blockchain. "
   ]
  },
  {
   "cell_type": "markdown",
   "metadata": {},
   "source": [
    "## The Ethereum blockchain paradigm explained\n",
    "The Ethereum blockchain is essentially a transaction-based state machine. In computer science, a state machine refers to something that will read a series of inputs and, based on those inputs, will transition to a new state.\n",
    "\n",
    "The following figure gives a graphical example of a simple state machine. \n",
    "\n",
    "### Figure 1.\n",
    "<img src=\"./graphics/State_Machine_Example.png\">"
   ]
  },
  {
   "cell_type": "markdown",
   "metadata": {},
   "source": [
    "The Ethereum initial state is called the *genesis state*.  This was the initial state before any transactions were computed and added. When transactions are executed, this genesis state transitions into some final state. At any point in time, this final state represents the current state of Ethereum.\n",
    "The following figure is a graphical representation of this idea. \n",
    "\n",
    "### Figure 2.\n",
    "\n",
    "<img src = \"./graphics/genesis_transition_example.png\">\n"
   ]
  },
  {
   "cell_type": "markdown",
   "metadata": {},
   "source": [
    "The state of Ethereum has millions of transactions. These transactions are grouped into “blocks.” A block contains a series of transactions, and each block is chained together with its previous block. We can represent this graphically.\n",
    "\n",
    "### Figure 3. \n",
    "<img src=\"./graphics/Blockchain_example1.png\"> "
   ]
  },
  {
   "cell_type": "markdown",
   "metadata": {},
   "source": [
    "To cause a transition from one state to the next, a transaction must be valid. For a transaction to be considered valid, it must go through a validation process known as mining. Mining is when a group of nodes (i.e. computers) expend their compute resources to create a block of valid transactions.\n",
    "\n",
    "Any node on the network that declares itself as a miner can attempt to create and validate a block. Lots of miners from around the world try to create and validate blocks at the same time. Each miner provides a mathematical “proof” when submitting a block to the blockchain, and this proof acts as a guarantee: if the proof exists, the block must be valid."
   ]
  },
  {
   "cell_type": "markdown",
   "metadata": {},
   "source": [
    "For a block to be added to the main blockchain, the miner must prove it faster than any other competitor miner. The process of validating each block by having a miner provide a mathematical proof is known as a “proof of work.”\n",
    "\n",
    "A miner who validates a new block is rewarded with a certain amount of value for doing this work. What is that value? The Ethereum blockchain uses an intrinsic digital token called “Ether.” Every time a miner proves a block, new Ether tokens are generated and awarded."
   ]
  },
  {
   "cell_type": "markdown",
   "metadata": {},
   "source": [
    "What guarantees that everyone sticks to one chain of blocks? How can we be sure that there doesn’t exist a subset of miners who will decide to create their own chain of blocks?\n",
    "\n",
    "Earlier, we defined a blockchain as a **transactional singleton machine with shared-state.** Using this definition, we can understand the correct current state is a single global truth, which everyone must accept. Having multiple states (or chains) would ruin the whole system, because it would be impossible to agree on which state was the correct one. If the chains were to diverge, you might own 10 coins on one chain, 20 on another, and 40 on another. In this scenario, there would be no way to determine which chain was the most “valid.”"
   ]
  },
  {
   "cell_type": "markdown",
   "metadata": {},
   "source": [
    "Whenever multiple paths are generated, a “fork” occurs. We typically want to avoid forks, because they disrupt the system and force people to choose which chain they “believe” in.\n",
    "\n",
    "A blockchain fork may look like this.\n",
    "\n",
    "### Figure 4. \n",
    "\n",
    "<img src=\"./graphics/fork_diagram1.png\">\n"
   ]
  },
  {
   "cell_type": "markdown",
   "metadata": {},
   "source": [
    "To determine which path is most valid and prevent multiple chains, Ethereum uses a mechanism called the “GHOST protocol.”\n",
    "GHOST is an acronym for “Greedy Heaviest Observed Subtree”\n"
   ]
  }
 ],
 "metadata": {
  "kernelspec": {
   "display_name": "Python 3",
   "language": "python",
   "name": "python3"
  },
  "language_info": {
   "codemirror_mode": {
    "name": "ipython",
    "version": 3
   },
   "file_extension": ".py",
   "mimetype": "text/x-python",
   "name": "python",
   "nbconvert_exporter": "python",
   "pygments_lexer": "ipython3",
   "version": "3.8.5"
  }
 },
 "nbformat": 4,
 "nbformat_minor": 4
}
